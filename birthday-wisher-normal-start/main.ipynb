{
 "cells": [
  {
   "cell_type": "code",
   "execution_count": 93,
   "metadata": {},
   "outputs": [
    {
     "name": "stdout",
     "output_type": "stream",
     "text": [
      "Dear [NAME],\n",
      "\n",
      "It's your birthday! Have a great day!\n",
      "\n",
      "All my love,\n",
      "\n",
      "Angela\n",
      "Aooddy_google\n"
     ]
    }
   ],
   "source": [
    "##################### Normal Starting Project ######################\n",
    "import pandas as pd\n",
    "from datetime import datetime\n",
    "import random\n",
    "import smtplib \n",
    "\n",
    "today = datetime.now()\n",
    "today_tuple = (today.month,today.day)\n",
    "\n",
    "\n",
    "my_email = \"aooddy892@gmail.com\"\n",
    "password = \"vdvsfdllevjzjwme\"                 # passwords : '8,8j<w56kkAGj:AV1E8QE'     #app passwords : # vdvs fdll evjz jwme  #redx lgha zyzw rctm\n",
    "\n",
    "\n",
    "# HINT 2: Use pandas to read the birthdays.csv\n",
    "data = pd.read_csv(\"birthdays.csv\")\n",
    "\n",
    "birthdays_dict = {(data_row[\"month\"],data_row[\"day\"]):data_row for (index, data_row) in data.iterrows()}\n",
    "# print(birthdays_dict)\n",
    "\n",
    "\n",
    "if today_tuple in birthdays_dict:\n",
    "    birthday_person = birthdays_dict[today_tuple]\n",
    "    file_path = f\"letter_templates/letter_{random.randint(1,3)}.txt\"\n",
    "    with open(file_path) as letter_file:\n",
    "        contents = letter_file.read()\n",
    "        print(contents)\n",
    "        contens = contents.replace(\"[NAME]\",birthday_person[\"name\"])\n",
    "        print(birthday_person[\"name\"])\n",
    "        \n",
    "\n",
    "    # with smtplib.SMTP(\"smtp.gmail.com\") as connection:\n",
    "    #     connection.starttls()\n",
    "    #     connection.login(my_email,password)\n",
    "    #     connection.sendmail(from_addr=my_email,\n",
    "    #                         to_addrs=birthday_person[\"email\"],\n",
    "    #                         msg=f\"Subject:Happy Birthday\\n\\n{contents}\")\n",
    "\n",
    "    \n",
    "\n",
    "\n"
   ]
  },
  {
   "cell_type": "code",
   "execution_count": 76,
   "metadata": {},
   "outputs": [
    {
     "name": "stdout",
     "output_type": "stream",
     "text": [
      "{(11, 4): name             Aooddy_yahoo\n",
      "email    aooddytest@yahoo.com\n",
      "year                     2023\n",
      "month                      11\n",
      "day                         4\n",
      "Name: 0, dtype: object, (11, 3): name                  Aooddy_google\n",
      "email    constant.eng.cmu@gmail.com\n",
      "year                           2023\n",
      "month                            11\n",
      "day                               3\n",
      "Name: 1, dtype: object}\n"
     ]
    }
   ],
   "source": [
    "print(birthdays_dict)"
   ]
  },
  {
   "cell_type": "code",
   "execution_count": 65,
   "metadata": {},
   "outputs": [
    {
     "name": "stdout",
     "output_type": "stream",
     "text": [
      "Aooddy_google Hey [NAME],\n",
      "\n",
      "Happy birthday! Have a wonderful time today and eat lots of cake!\n",
      "\n",
      "Lots of love,\n",
      "\n",
      "Angela\n"
     ]
    }
   ],
   "source": [
    "birthday_person[\"name\"]\n",
    "contens =contents.replace('[NAME]',birthday_person[\"name\"])\n",
    "print(birthday_person[\"name\"],contents)"
   ]
  }
 ],
 "metadata": {
  "kernelspec": {
   "display_name": "Python 3",
   "language": "python",
   "name": "python3"
  },
  "language_info": {
   "codemirror_mode": {
    "name": "ipython",
    "version": 3
   },
   "file_extension": ".py",
   "mimetype": "text/x-python",
   "name": "python",
   "nbconvert_exporter": "python",
   "pygments_lexer": "ipython3",
   "version": "3.12.0"
  }
 },
 "nbformat": 4,
 "nbformat_minor": 2
}
